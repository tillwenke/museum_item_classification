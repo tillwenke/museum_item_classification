{
 "cells": [
  {
   "cell_type": "code",
   "execution_count": 1,
   "id": "48ce18c9",
   "metadata": {},
   "outputs": [
    {
     "name": "stderr",
     "output_type": "stream",
     "text": [
      "/home/till/projects/uni/data science/museum_item_classification/setup_general.py:95: DtypeWarning: Columns (11) have mixed types. Specify dtype option on import or set low_memory=False.\n",
      "  combined_intermediate_ready = pd.read_csv('./data/general/combined_intermediate_ready.csv', index_col='id', dtype={'type': str})\n"
     ]
    }
   ],
   "source": [
    "from setup_general import *"
   ]
  },
  {
   "cell_type": "code",
   "execution_count": 2,
   "id": "8a877bb3",
   "metadata": {},
   "outputs": [],
   "source": [
    "data = combined_data.copy()"
   ]
  },
  {
   "cell_type": "code",
   "execution_count": 3,
   "id": "a2e3005a",
   "metadata": {},
   "outputs": [],
   "source": [
    "data = data.drop(columns=['full_nr', 'name', 'commentary', 'text', 'legend', 'initial_info', 'additional_text'])"
   ]
  },
  {
   "cell_type": "code",
   "execution_count": 4,
   "id": "f7d121df",
   "metadata": {},
   "outputs": [],
   "source": [
    "data = pd.get_dummies(data, columns=['material', 'event_type', 'location', 'start', 'end',\n",
    "       'before_Christ', 'country_and_unit', 'participants_role', 'participant',\n",
    "       'parish', 'class', 'technique', 'parameter', 'unit', 'value',\n",
    "       'museum_abbr', 'musealia_mark', 'musealia_additional_nr', 'collection_mark',\n",
    "       'collection_additional_nr', 'is_original', 'damages', 'state', 'color'])"
   ]
  },
  {
   "cell_type": "code",
   "execution_count": 5,
   "id": "76a59422",
   "metadata": {},
   "outputs": [],
   "source": [
    "data = data.replace(float('nan'), 0)"
   ]
  },
  {
   "cell_type": "code",
   "execution_count": 6,
   "id": "dbc1dc4e",
   "metadata": {},
   "outputs": [
    {
     "data": {
      "text/plain": [
       "(20000, 12908)"
      ]
     },
     "execution_count": 6,
     "metadata": {},
     "output_type": "execute_result"
    }
   ],
   "source": [
    "data.shape"
   ]
  },
  {
   "cell_type": "code",
   "execution_count": 7,
   "id": "70dfd17e",
   "metadata": {},
   "outputs": [],
   "source": [
    "train = data.loc[data['source']=='train'].drop('source',axis=1)\n",
    "test = data.loc[data['source']=='test'].drop('source',axis=1)\n",
    "\n",
    "X = train.drop(columns=['type'])\n",
    "y = train['type']\n",
    "\n",
    "\n",
    "X_test = test.drop(columns=['type'])"
   ]
  },
  {
   "cell_type": "code",
   "execution_count": 8,
   "metadata": {},
   "outputs": [
    {
     "name": "stdout",
     "output_type": "stream",
     "text": [
      "0.8989285714285714 0.6725549214123885\n"
     ]
    }
   ],
   "source": [
    "rf = RandomForestClassifier(n_estimators=100, random_state=0)\n",
    "\n",
    "score = cross_validate(rf, X, y, cv=5, scoring={'Acc':\"accuracy\",\"F1\":\"f1_macro\"})\n",
    "print(score['test_Acc'].mean(), score['test_F1'].mean())\n",
    "#0.8989285714285714 0.6725549214123885"
   ]
  },
  {
   "cell_type": "code",
   "execution_count": null,
   "id": "37933d46",
   "metadata": {},
   "outputs": [
    {
     "name": "stdout",
     "output_type": "stream",
     "text": [
      "Accuracy:  0.8923809523809524\n",
      "F1:  0.6360515192004452\n"
     ]
    },
    {
     "data": {
      "text/plain": [
       "\"\\nsubmission = pd.DataFrame({'id': test.index ,'type': y_pred})\\nsubmission.to_csv('submissions/baseline.csv', index=False)\\n\""
      ]
     },
     "execution_count": 9,
     "metadata": {},
     "output_type": "execute_result"
    }
   ],
   "source": [
    "X_train, X_val, y_train, y_val = train_test_split(X, y, test_size=0.3, random_state=0)\n",
    "\n",
    "rf = RandomForestClassifier(n_estimators=100, random_state=0)\n",
    "rf.fit(X_train, y_train)\n",
    "y_pred = rf.predict(X_val)\n",
    "\n",
    "print('Accuracy: ', accuracy_score(y_val, y_pred))\n",
    "print('F1: ', f1_score(y_val, y_pred, average='macro'))\n",
    "\n",
    "\"\"\"\n",
    "submission = pd.DataFrame({'id': test.index ,'type': y_pred})\n",
    "submission.to_csv('submissions/baseline.csv', index=False)\n",
    "\"\"\""
   ]
  }
 ],
 "metadata": {
  "kernelspec": {
   "display_name": "Python 3",
   "language": "python",
   "name": "python3"
  },
  "language_info": {
   "codemirror_mode": {
    "name": "ipython",
    "version": 3
   },
   "file_extension": ".py",
   "mimetype": "text/x-python",
   "name": "python",
   "nbconvert_exporter": "python",
   "pygments_lexer": "ipython3",
   "version": "3.10.6 (main, Nov 14 2022, 16:10:14) [GCC 11.3.0]"
  },
  "orig_nbformat": 4,
  "vscode": {
   "interpreter": {
    "hash": "916dbcbb3f70747c44a77c7bcd40155683ae19c65e1c03b4aa3499c5328201f1"
   }
  }
 },
 "nbformat": 4,
 "nbformat_minor": 2
}
