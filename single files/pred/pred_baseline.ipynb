{
 "cells": [
  {
   "cell_type": "code",
   "execution_count": null,
   "id": "48ce18c9",
   "metadata": {},
   "outputs": [],
   "source": [
    "from setup_general import *"
   ]
  },
  {
   "cell_type": "code",
   "execution_count": null,
   "id": "8a877bb3",
   "metadata": {},
   "outputs": [],
   "source": [
    "data = combined_data.copy()"
   ]
  },
  {
   "cell_type": "code",
   "execution_count": null,
   "id": "a2e3005a",
   "metadata": {},
   "outputs": [],
   "source": [
    "data = data.drop(columns=['full_nr', 'name', 'commentary', 'text', 'legend', 'initial_info', 'additional_text'])"
   ]
  },
  {
   "cell_type": "code",
   "execution_count": null,
   "id": "f7d121df",
   "metadata": {},
   "outputs": [],
   "source": [
    "data = pd.get_dummies(data, columns=['material', 'event_type', 'location', 'start', 'end',\n",
    "       'before_Christ', 'country_and_unit', 'participants_role', 'participant',\n",
    "       'parish', 'class', 'technique', 'parameter', 'unit', 'value',\n",
    "       'museum_abbr', 'musealia_mark', 'musealia_additional_nr', 'collection_mark',\n",
    "       'collection_additional_nr', 'is_original', 'damages', 'state', 'color'])"
   ]
  },
  {
   "cell_type": "code",
   "execution_count": null,
   "id": "76a59422",
   "metadata": {},
   "outputs": [],
   "source": [
    "data = data.replace(float('nan'), 0)"
   ]
  },
  {
   "cell_type": "code",
   "execution_count": null,
   "id": "dbc1dc4e",
   "metadata": {},
   "outputs": [
    {
     "data": {
      "text/plain": [
       "(20000, 12908)"
      ]
     },
     "metadata": {},
     "output_type": "display_data"
    }
   ],
   "source": [
    "data.shape"
   ]
  },
  {
   "cell_type": "code",
   "execution_count": null,
   "id": "70dfd17e",
   "metadata": {},
   "outputs": [],
   "source": [
    "train = data.loc[data['source']=='train'].drop('source',axis=1)\n",
    "test = data.loc[data['source']=='test'].drop('source',axis=1)\n",
    "\n",
    "X_train = train.drop(columns=['type'])\n",
    "y_train = train['type']\n",
    "X_test = test.drop(columns=['type'])"
   ]
  },
  {
   "cell_type": "code",
   "execution_count": null,
   "id": "37933d46",
   "metadata": {},
   "outputs": [],
   "source": [
    "rf = RandomForestClassifier(n_estimators=100, random_state=0)\n",
    "rf.fit(X_train, y_train)\n",
    "y_pred = rf.predict(X_test)\n",
    "\n",
    "submission = pd.DataFrame({'id': test.index ,'type': y_pred})\n",
    "submission.to_csv('submissions/baseline.csv', index=False)"
   ]
  }
 ],
 "metadata": {
  "language_info": {
   "name": "python"
  },
  "orig_nbformat": 4
 },
 "nbformat": 4,
 "nbformat_minor": 2
}
