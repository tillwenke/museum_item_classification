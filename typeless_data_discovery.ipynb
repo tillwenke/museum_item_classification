{
 "cells": [
  {
   "cell_type": "code",
   "execution_count": 25,
   "metadata": {},
   "outputs": [],
   "source": [
    "from setup_general import *"
   ]
  },
  {
   "cell_type": "code",
   "execution_count": 26,
   "metadata": {},
   "outputs": [],
   "source": [
    "additional_name = pd.read_csv('data/typeless/additional_name.csv')\n",
    "description = pd.read_csv('data/typeless/description.csv', sep=';')\n",
    "dimensions = pd.read_csv('data/typeless/dimensions.csv')\n",
    "events = pd.read_csv('data/typeless/events.csv')\n",
    "general_info = pd.read_csv('data/typeless/general_info.csv', sep=';')\n",
    "materials = pd.read_csv('data/typeless/materials.csv')\n",
    "technique = pd.read_csv('data/typeless/technique.csv')\n",
    "\n",
    "all_types = pd.read_excel('data/typeless/all_types.xlsx')\n"
   ]
  },
  {
   "cell_type": "code",
   "execution_count": 27,
   "metadata": {},
   "outputs": [
    {
     "data": {
      "text/html": [
       "<div>\n",
       "<style scoped>\n",
       "    .dataframe tbody tr th:only-of-type {\n",
       "        vertical-align: middle;\n",
       "    }\n",
       "\n",
       "    .dataframe tbody tr th {\n",
       "        vertical-align: top;\n",
       "    }\n",
       "\n",
       "    .dataframe thead th {\n",
       "        text-align: right;\n",
       "    }\n",
       "</style>\n",
       "<table border=\"1\" class=\"dataframe\">\n",
       "  <thead>\n",
       "    <tr style=\"text-align: right;\">\n",
       "      <th></th>\n",
       "      <th>ID</th>\n",
       "      <th>KLASSIFIKAATOR_ID</th>\n",
       "      <th>NIMETUS</th>\n",
       "    </tr>\n",
       "  </thead>\n",
       "  <tbody>\n",
       "    <tr>\n",
       "      <th>0</th>\n",
       "      <td>4824</td>\n",
       "      <td>23499</td>\n",
       "      <td>???</td>\n",
       "    </tr>\n",
       "    <tr>\n",
       "      <th>1</th>\n",
       "      <td>4935</td>\n",
       "      <td>32081</td>\n",
       "      <td>FDC (esimese päeva ümbrik)</td>\n",
       "    </tr>\n",
       "    <tr>\n",
       "      <th>2</th>\n",
       "      <td>3071</td>\n",
       "      <td>16573</td>\n",
       "      <td>ader</td>\n",
       "    </tr>\n",
       "    <tr>\n",
       "      <th>3</th>\n",
       "      <td>3562</td>\n",
       "      <td>17069</td>\n",
       "      <td>aer/mõla</td>\n",
       "    </tr>\n",
       "    <tr>\n",
       "      <th>4</th>\n",
       "      <td>3932</td>\n",
       "      <td>17444</td>\n",
       "      <td>ahi</td>\n",
       "    </tr>\n",
       "  </tbody>\n",
       "</table>\n",
       "</div>"
      ],
      "text/plain": [
       "     ID  KLASSIFIKAATOR_ID                     NIMETUS\n",
       "0  4824              23499                         ???\n",
       "1  4935              32081  FDC (esimese päeva ümbrik)\n",
       "2  3071              16573                        ader\n",
       "3  3562              17069                    aer/mõla\n",
       "4  3932              17444                         ahi"
      ]
     },
     "execution_count": 27,
     "metadata": {},
     "output_type": "execute_result"
    }
   ],
   "source": [
    "all_types.head()"
   ]
  },
  {
   "cell_type": "code",
   "execution_count": 28,
   "metadata": {},
   "outputs": [
    {
     "data": {
      "text/html": [
       "<div>\n",
       "<style scoped>\n",
       "    .dataframe tbody tr th:only-of-type {\n",
       "        vertical-align: middle;\n",
       "    }\n",
       "\n",
       "    .dataframe tbody tr th {\n",
       "        vertical-align: top;\n",
       "    }\n",
       "\n",
       "    .dataframe thead th {\n",
       "        text-align: right;\n",
       "    }\n",
       "</style>\n",
       "<table border=\"1\" class=\"dataframe\">\n",
       "  <thead>\n",
       "    <tr style=\"text-align: right;\">\n",
       "      <th></th>\n",
       "      <th>full_nr</th>\n",
       "      <th>name</th>\n",
       "      <th>ks</th>\n",
       "      <th>material</th>\n",
       "      <th>commentary</th>\n",
       "      <th>event_type</th>\n",
       "      <th>location</th>\n",
       "      <th>start</th>\n",
       "      <th>end</th>\n",
       "      <th>before_Christ</th>\n",
       "      <th>country_and_unit</th>\n",
       "      <th>participants_role</th>\n",
       "      <th>participant</th>\n",
       "      <th>parish</th>\n",
       "      <th>text</th>\n",
       "      <th>class</th>\n",
       "      <th>technique</th>\n",
       "      <th>parameter</th>\n",
       "      <th>unit</th>\n",
       "      <th>value</th>\n",
       "      <th>museum_abbr</th>\n",
       "      <th>musealia_mark</th>\n",
       "      <th>musealia_seria_nr</th>\n",
       "      <th>musealia_queue_nr</th>\n",
       "      <th>musealia_additional_nr</th>\n",
       "      <th>collection_mark</th>\n",
       "      <th>collection_queue_nr</th>\n",
       "      <th>collection_additional_nr</th>\n",
       "      <th>element_count</th>\n",
       "      <th>legend</th>\n",
       "      <th>is_original</th>\n",
       "      <th>initial_info</th>\n",
       "      <th>damages</th>\n",
       "      <th>state</th>\n",
       "      <th>color</th>\n",
       "      <th>additional_text</th>\n",
       "      <th>type</th>\n",
       "    </tr>\n",
       "    <tr>\n",
       "      <th>id</th>\n",
       "      <th></th>\n",
       "      <th></th>\n",
       "      <th></th>\n",
       "      <th></th>\n",
       "      <th></th>\n",
       "      <th></th>\n",
       "      <th></th>\n",
       "      <th></th>\n",
       "      <th></th>\n",
       "      <th></th>\n",
       "      <th></th>\n",
       "      <th></th>\n",
       "      <th></th>\n",
       "      <th></th>\n",
       "      <th></th>\n",
       "      <th></th>\n",
       "      <th></th>\n",
       "      <th></th>\n",
       "      <th></th>\n",
       "      <th></th>\n",
       "      <th></th>\n",
       "      <th></th>\n",
       "      <th></th>\n",
       "      <th></th>\n",
       "      <th></th>\n",
       "      <th></th>\n",
       "      <th></th>\n",
       "      <th></th>\n",
       "      <th></th>\n",
       "      <th></th>\n",
       "      <th></th>\n",
       "      <th></th>\n",
       "      <th></th>\n",
       "      <th></th>\n",
       "      <th></th>\n",
       "      <th></th>\n",
       "      <th></th>\n",
       "    </tr>\n",
       "  </thead>\n",
       "  <tbody>\n",
       "    <tr>\n",
       "      <th>2065396</th>\n",
       "      <td>NaN</td>\n",
       "      <td>NaN</td>\n",
       "      <td>NaN</td>\n",
       "      <td>NaN</td>\n",
       "      <td>NaN</td>\n",
       "      <td>NaN</td>\n",
       "      <td>NaN</td>\n",
       "      <td>NaN</td>\n",
       "      <td>NaN</td>\n",
       "      <td>NaN</td>\n",
       "      <td>NaN</td>\n",
       "      <td>NaN</td>\n",
       "      <td>NaN</td>\n",
       "      <td>NaN</td>\n",
       "      <td>NaN</td>\n",
       "      <td>NaN</td>\n",
       "      <td>NaN</td>\n",
       "      <td>NaN</td>\n",
       "      <td>NaN</td>\n",
       "      <td>NaN</td>\n",
       "      <td>AM</td>\n",
       "      <td>NaN</td>\n",
       "      <td>NaN</td>\n",
       "      <td>NaN</td>\n",
       "      <td>NaN</td>\n",
       "      <td>F</td>\n",
       "      <td>97.0</td>\n",
       "      <td>NaN</td>\n",
       "      <td>1.0</td>\n",
       "      <td>NaN</td>\n",
       "      <td>NaN</td>\n",
       "      <td>NaN</td>\n",
       "      <td>NaN</td>\n",
       "      <td>hea</td>\n",
       "      <td>NaN</td>\n",
       "      <td>NaN</td>\n",
       "      <td>foto</td>\n",
       "    </tr>\n",
       "  </tbody>\n",
       "</table>\n",
       "</div>"
      ],
      "text/plain": [
       "        full_nr name  ks material commentary event_type location start  end  \\\n",
       "id                                                                            \n",
       "2065396     NaN  NaN NaN      NaN        NaN        NaN      NaN   NaN  NaN   \n",
       "\n",
       "        before_Christ country_and_unit participants_role participant parish  \\\n",
       "id                                                                            \n",
       "2065396           NaN              NaN               NaN         NaN    NaN   \n",
       "\n",
       "        text class technique parameter unit value museum_abbr musealia_mark  \\\n",
       "id                                                                            \n",
       "2065396  NaN   NaN       NaN       NaN  NaN   NaN          AM           NaN   \n",
       "\n",
       "         musealia_seria_nr  musealia_queue_nr musealia_additional_nr  \\\n",
       "id                                                                     \n",
       "2065396                NaN                NaN                    NaN   \n",
       "\n",
       "        collection_mark  collection_queue_nr collection_additional_nr  \\\n",
       "id                                                                      \n",
       "2065396               F                 97.0                      NaN   \n",
       "\n",
       "         element_count legend  is_original initial_info damages state color  \\\n",
       "id                                                                            \n",
       "2065396            1.0    NaN          NaN          NaN     NaN   hea   NaN   \n",
       "\n",
       "        additional_text  type  \n",
       "id                             \n",
       "2065396             NaN  foto  "
      ]
     },
     "execution_count": 28,
     "metadata": {},
     "output_type": "execute_result"
    }
   ],
   "source": [
    "train.head(1)"
   ]
  },
  {
   "cell_type": "code",
   "execution_count": 29,
   "metadata": {},
   "outputs": [],
   "source": [
    "additional_name = additional_name.groupby('MUSEAAL_ID', as_index=True).agg({'TEKST':' '.join})"
   ]
  },
  {
   "cell_type": "code",
   "execution_count": 30,
   "metadata": {},
   "outputs": [],
   "source": [
    "additional_name = additional_name.rename(columns={'TEKST':'text'})"
   ]
  },
  {
   "cell_type": "code",
   "execution_count": 31,
   "metadata": {},
   "outputs": [],
   "source": [
    "description = description.groupby('MUSEAAL_ID', as_index=True).agg({'LISATEKST':' '.join})\n",
    "description = description.rename(columns={'LISATEKST':'additional_text'})"
   ]
  },
  {
   "cell_type": "code",
   "execution_count": 32,
   "metadata": {},
   "outputs": [],
   "source": [
    "# for now dont use all awailable measures\n",
    "dimensions = dimensions.rename(columns={'PARAMEETER':'parameter','TAIS_NR':'full_nr', 'NIMETUS':'name', 'YHIK':'unit','VAARTUS':'value'}).drop(columns=['KOMMENTAAR'])"
   ]
  },
  {
   "cell_type": "code",
   "execution_count": 33,
   "metadata": {},
   "outputs": [],
   "source": [
    "dimensions = dimensions.groupby('MUSEAAL_ID', as_index=True).first()[['parameter', 'unit', 'value']]"
   ]
  },
  {
   "cell_type": "code",
   "execution_count": 34,
   "metadata": {},
   "outputs": [],
   "source": [
    "events = events.groupby('MUSEAAL_ID', as_index=True).first()"
   ]
  },
  {
   "cell_type": "code",
   "execution_count": 35,
   "metadata": {},
   "outputs": [],
   "source": [
    "events = events.rename(columns={'TAIS_NR':'full_nr', 'SYNDMUSE_LIIK':'event_type', 'ASUKOHT':'location', 'ALGUS':'start', 'LOPP':'end', 'ENNE_KR':'before_christ', 'RIIK_ADMIN_KOND':'country_and_unit', 'OSALEJA_ROLL':'participants_role', 'OSALEJA':'participant', 'KIHELKOND':'parish'}).drop(columns=['KUU'])"
   ]
  },
  {
   "cell_type": "code",
   "execution_count": 36,
   "metadata": {},
   "outputs": [],
   "source": [
    "general_info = general_info.groupby('MUSEAAL_ID', as_index=True).first()"
   ]
  },
  {
   "cell_type": "code",
   "execution_count": 37,
   "metadata": {},
   "outputs": [],
   "source": [
    "general_info = general_info.rename(columns={'ACR':'museum_abbr', 'TRT':'musealia_mark', 'TRS':'musealia_seria_nr', 'TRJ':'musealia_queue_nr', 'TRL':'musealia_additional_nr', 'KT':'collection_mark', 'KS':'ks', 'KJ':'collection_queue_nr','KL':'collection_additional_nr', 'NIMETUS':'name', 'KAHJUSTUSED':'damages', 'SEISUND':'state'}).drop(columns=['OLEMUS'])"
   ]
  },
  {
   "cell_type": "code",
   "execution_count": 38,
   "metadata": {},
   "outputs": [],
   "source": [
    "materials = materials.rename(columns={'MATERJAL':'material', 'KOMMENTAAR':'commentary', 'TAIS_NR':'full_nr', 'NIMETUS':'name'})"
   ]
  },
  {
   "cell_type": "code",
   "execution_count": 39,
   "metadata": {},
   "outputs": [],
   "source": [
    "materials['commentary'] = materials['commentary'].replace(np.nan,'')"
   ]
  },
  {
   "cell_type": "code",
   "execution_count": 40,
   "metadata": {},
   "outputs": [],
   "source": [
    "materials = materials.groupby('MUSEAAL_ID', as_index=True).agg({'material':'>'.join, 'commentary':' '.join})"
   ]
  },
  {
   "cell_type": "code",
   "execution_count": 41,
   "metadata": {},
   "outputs": [],
   "source": [
    "materials['commentary'] = materials['commentary'].replace('', np.nan)"
   ]
  },
  {
   "cell_type": "code",
   "execution_count": 42,
   "metadata": {},
   "outputs": [],
   "source": [
    "technique = technique.rename(columns={'TEHNIKA':'technique','TAIS_NR':'full_nr', 'NIMETUS':'name'}).drop(columns=['KOMMENTAAR'])"
   ]
  },
  {
   "cell_type": "code",
   "execution_count": 43,
   "metadata": {},
   "outputs": [],
   "source": [
    "technique = technique.groupby('MUSEAAL_ID', as_index=True).agg({'technique':'>'.join})"
   ]
  },
  {
   "cell_type": "code",
   "execution_count": 44,
   "metadata": {},
   "outputs": [],
   "source": [
    "dfs = [additional_name, description, events, general_info, materials, technique, dimensions]\n",
    "\n",
    "from functools import reduce\n",
    "df_merged = reduce(lambda  left,right: pd.merge(left,right,on=['MUSEAAL_ID'],\n",
    "                                            how='outer'), dfs)"
   ]
  },
  {
   "cell_type": "code",
   "execution_count": 53,
   "metadata": {},
   "outputs": [],
   "source": [
    "df_merged.index.names=['id']"
   ]
  },
  {
   "cell_type": "code",
   "execution_count": 55,
   "metadata": {},
   "outputs": [],
   "source": [
    "typeless_samples = df_merged.sample(n=1000, random_state=42)"
   ]
  },
  {
   "cell_type": "code",
   "execution_count": 56,
   "metadata": {},
   "outputs": [
    {
     "name": "stderr",
     "output_type": "stream",
     "text": [
      "/home/till/projects/uni/data science/museum_item_classification/prep_helpers.py:201: SettingWithCopyWarning: \n",
      "A value is trying to be set on a copy of a slice from a DataFrame.\n",
      "Try using .loc[row_indexer,col_indexer] = value instead\n",
      "\n",
      "See the caveats in the documentation: https://pandas.pydata.org/pandas-docs/stable/user_guide/indexing.html#returning-a-view-versus-a-copy\n",
      "  text.text_features = text.text_features.apply(lambda x: x.strip())\n"
     ]
    }
   ],
   "source": [
    "text = get_text_df(typeless_samples.copy())"
   ]
  },
  {
   "cell_type": "code",
   "execution_count": 57,
   "metadata": {},
   "outputs": [],
   "source": [
    "text.to_csv('data/typeless/text.csv', index=True)"
   ]
  },
  {
   "cell_type": "code",
   "execution_count": 58,
   "metadata": {},
   "outputs": [],
   "source": [
    "typeless_samples.to_csv('data/typeless/data.csv', index=True)\n",
    "# running it through preparation.ipynb"
   ]
  }
 ],
 "metadata": {
  "kernelspec": {
   "display_name": "Python 3",
   "language": "python",
   "name": "python3"
  },
  "language_info": {
   "codemirror_mode": {
    "name": "ipython",
    "version": 3
   },
   "file_extension": ".py",
   "mimetype": "text/x-python",
   "name": "python",
   "nbconvert_exporter": "python",
   "pygments_lexer": "ipython3",
   "version": "3.10.6"
  },
  "orig_nbformat": 4
 },
 "nbformat": 4,
 "nbformat_minor": 2
}
